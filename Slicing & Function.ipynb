{
 "cells": [
  {
   "cell_type": "markdown",
   "id": "5cb47f13",
   "metadata": {},
   "source": [
    "## Slicing\n",
    "#### Start:Stop:Step\n",
    "##### By default\n",
    "- start = 0\n",
    "- stop = end of list\n",
    "- step = 1"
   ]
  },
  {
   "cell_type": "code",
   "execution_count": 4,
   "id": "c0e5a359",
   "metadata": {},
   "outputs": [
    {
     "data": {
      "text/plain": [
       "['a',\n",
       " 'b',\n",
       " 'c',\n",
       " 'd',\n",
       " 'e',\n",
       " 'f',\n",
       " 'g',\n",
       " 'h',\n",
       " 'i',\n",
       " 'j',\n",
       " 'k',\n",
       " 'l',\n",
       " 'm',\n",
       " 'n',\n",
       " 'o',\n",
       " 'p',\n",
       " 'q',\n",
       " 'r',\n",
       " 's',\n",
       " 't',\n",
       " 'u',\n",
       " 'v',\n",
       " 'w',\n",
       " 'x',\n",
       " 'y',\n",
       " 'z']"
      ]
     },
     "execution_count": 4,
     "metadata": {},
     "output_type": "execute_result"
    }
   ],
   "source": [
    "abc = \"abcdefghijklmnopqrstuvwxyz\";\n",
    "listed_abc = list(abc);\n",
    "listed_abc"
   ]
  },
  {
   "cell_type": "code",
   "execution_count": 10,
   "id": "d85c01f0",
   "metadata": {},
   "outputs": [
    {
     "data": {
      "text/plain": [
       "['a', 'c', 'e', 'g', 'i', 'k', 'm', 'o', 'q', 's', 'u', 'w', 'y']"
      ]
     },
     "execution_count": 10,
     "metadata": {},
     "output_type": "execute_result"
    }
   ],
   "source": [
    "slice1 = listed_abc[0:26:2]\n",
    "slice1"
   ]
  },
  {
   "cell_type": "code",
   "execution_count": 12,
   "id": "89f968d8",
   "metadata": {},
   "outputs": [
    {
     "data": {
      "text/plain": [
       "['a', 'b', 'c', 'd', 'e']"
      ]
     },
     "execution_count": 12,
     "metadata": {},
     "output_type": "execute_result"
    }
   ],
   "source": [
    "slice2 = listed_abc[:5]\n",
    "slice2"
   ]
  },
  {
   "cell_type": "code",
   "execution_count": 13,
   "id": "63de8e23",
   "metadata": {},
   "outputs": [
    {
     "data": {
      "text/plain": [
       "['y', 'z']"
      ]
     },
     "execution_count": 13,
     "metadata": {},
     "output_type": "execute_result"
    }
   ],
   "source": [
    "slice3 = listed_abc[24:]\n",
    "slice3"
   ]
  },
  {
   "cell_type": "code",
   "execution_count": 16,
   "id": "c689d499",
   "metadata": {},
   "outputs": [
    {
     "data": {
      "text/plain": [
       "['a', 'e', 'i', 'm', 'q', 'u', 'y']"
      ]
     },
     "execution_count": 16,
     "metadata": {},
     "output_type": "execute_result"
    }
   ],
   "source": [
    "slice4 = listed_abc[::4];\n",
    "slice4"
   ]
  },
  {
   "cell_type": "markdown",
   "id": "f05c32e9",
   "metadata": {},
   "source": [
    "## Function\n",
    "```\n",
    "def function_name (parameters):\n",
    "    statement(s)\n",
    "    .\n",
    "    .\n",
    "    return ...\n",
    "```"
   ]
  },
  {
   "cell_type": "code",
   "execution_count": 29,
   "id": "a67cf9c9",
   "metadata": {},
   "outputs": [
    {
     "name": "stdout",
     "output_type": "stream",
     "text": [
      "[1, 2, 3, 4]\n",
      "[2, 3, 4, 5]\n"
     ]
    }
   ],
   "source": [
    "a = [1,2,3,4];\n",
    "def plus1(ar):\n",
    "    for i in range(len(ar)):\n",
    "        ar[i]+=1;\n",
    "    return ar\n",
    "print(a);\n",
    "a = plus1(a);\n",
    "print(a);"
   ]
  },
  {
   "cell_type": "markdown",
   "id": "619b756c",
   "metadata": {},
   "source": [
    "#### Arbitrary arguments (*args)"
   ]
  },
  {
   "cell_type": "code",
   "execution_count": 30,
   "id": "633ad2a7",
   "metadata": {},
   "outputs": [],
   "source": [
    "def multiply(*ar):\n",
    "    result=1;\n",
    "    for i in ar:\n",
    "        result*=i;\n",
    "    return result;"
   ]
  },
  {
   "cell_type": "code",
   "execution_count": 31,
   "id": "1de2eb52",
   "metadata": {},
   "outputs": [
    {
     "name": "stdout",
     "output_type": "stream",
     "text": [
      "24\n",
      "6\n"
     ]
    }
   ],
   "source": [
    "print(multiply(1,2,3,4));\n",
    "print(multiply(2,3));"
   ]
  },
  {
   "cell_type": "code",
   "execution_count": 32,
   "id": "e763d6bd",
   "metadata": {},
   "outputs": [],
   "source": [
    "def return2tuapair():\n",
    "    return 1,2;"
   ]
  },
  {
   "cell_type": "code",
   "execution_count": 33,
   "id": "85dee1fb",
   "metadata": {},
   "outputs": [
    {
     "name": "stdout",
     "output_type": "stream",
     "text": [
      "1 2\n"
     ]
    }
   ],
   "source": [
    "a,b=return2tuapair();\n",
    "print(a,b);"
   ]
  },
  {
   "cell_type": "markdown",
   "id": "7401fbca",
   "metadata": {},
   "source": [
    "#### Lamda function\n",
    "- one-time use\n",
    "- in-line/embedded function\n",
    "- easy to read & shorter code\n",
    "##### Syntax\n",
    "```\n",
    "lambda list of parameters : function body\n",
    "```\n"
   ]
  },
  {
   "cell_type": "code",
   "execution_count": 2,
   "id": "de7279ef",
   "metadata": {},
   "outputs": [
    {
     "name": "stdout",
     "output_type": "stream",
     "text": [
      "Hi JJ\n"
     ]
    }
   ],
   "source": [
    "lambda_say_hi = lambda name : print(\"Hi\",name);\n",
    "lambda_say_hi(\"JJ\");"
   ]
  },
  {
   "cell_type": "markdown",
   "id": "246a35aa",
   "metadata": {},
   "source": [
    "##### `map()` function"
   ]
  },
  {
   "cell_type": "code",
   "execution_count": 5,
   "id": "4bd944bb",
   "metadata": {},
   "outputs": [
    {
     "name": "stdout",
     "output_type": "stream",
     "text": [
      "[2, 12, 30]\n"
     ]
    }
   ],
   "source": [
    "rects = [(1,2),(3,4),(5,6)];\n",
    "rects=list(map(lambda x:x[0]*x[1],rects))\n",
    "print(rects);"
   ]
  },
  {
   "cell_type": "markdown",
   "id": "d06b1de3",
   "metadata": {},
   "source": [
    "##### `reduce()` function"
   ]
  },
  {
   "cell_type": "code",
   "execution_count": 7,
   "id": "0d93b7d1",
   "metadata": {},
   "outputs": [
    {
     "name": "stdout",
     "output_type": "stream",
     "text": [
      "15\n"
     ]
    }
   ],
   "source": [
    "from functools import reduce\n",
    "\n",
    "print(reduce(lambda x,y:x+y,[1,2,3,4,5]));"
   ]
  },
  {
   "cell_type": "markdown",
   "id": "f335ee97",
   "metadata": {},
   "source": [
    "##### `filter()` function"
   ]
  },
  {
   "cell_type": "code",
   "execution_count": 9,
   "id": "ad07f046",
   "metadata": {},
   "outputs": [
    {
     "name": "stdout",
     "output_type": "stream",
     "text": [
      "['Nick', 'Mike']\n"
     ]
    }
   ],
   "source": [
    "names = [\"Dave\",\"Nick\",\"Tom\",\"Mike\"];\n",
    "print(list(filter(lambda s:s[0] in [\"M\",\"N\"],names)));"
   ]
  },
  {
   "cell_type": "code",
   "execution_count": null,
   "id": "66430a75",
   "metadata": {},
   "outputs": [],
   "source": []
  }
 ],
 "metadata": {
  "kernelspec": {
   "display_name": "Python 3 (ipykernel)",
   "language": "python",
   "name": "python3"
  },
  "language_info": {
   "codemirror_mode": {
    "name": "ipython",
    "version": 3
   },
   "file_extension": ".py",
   "mimetype": "text/x-python",
   "name": "python",
   "nbconvert_exporter": "python",
   "pygments_lexer": "ipython3",
   "version": "3.10.7"
  }
 },
 "nbformat": 4,
 "nbformat_minor": 5
}
