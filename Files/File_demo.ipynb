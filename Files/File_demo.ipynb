{
 "cells": [
  {
   "cell_type": "code",
   "execution_count": 28,
   "id": "e2729d73",
   "metadata": {},
   "outputs": [],
   "source": [
    "f = open('sample.txt')"
   ]
  },
  {
   "cell_type": "code",
   "execution_count": 29,
   "id": "b88eda75",
   "metadata": {},
   "outputs": [
    {
     "name": "stdout",
     "output_type": "stream",
     "text": [
      "<_io.TextIOWrapper name='sample.txt' mode='r' encoding='cp874'>\n"
     ]
    }
   ],
   "source": [
    "print(f)"
   ]
  },
  {
   "cell_type": "markdown",
   "id": "17c7d175",
   "metadata": {},
   "source": [
    "### Access modes\n",
    "- `r` : read only(default)\n",
    "- `w` : write only\n",
    "- `r+` : read & write\n",
    "- `w+` : write & read\n",
    "- `a` : append\n",
    "- `t` : text mode(default)\n",
    "- `b` : binary mode"
   ]
  },
  {
   "cell_type": "markdown",
   "id": "7f232c14",
   "metadata": {},
   "source": [
    "### Read & write files\n",
    "- `read(<size>)` : reads size character from files. if no argument, read entire files\n",
    "- `readline()` : reads a single line from file break at `\\n`\n",
    "- `readlines()` : reads all lines and return a list of each line\n",
    "- Loop to read each line :\n",
    "```\n",
    "for line in file_object:\n",
    "...\n",
    "```"
   ]
  },
  {
   "cell_type": "code",
   "execution_count": 9,
   "id": "76044d81",
   "metadata": {},
   "outputs": [
    {
     "name": "stdout",
     "output_type": "stream",
     "text": [
      "Hello JJ\n",
      "This is a sample text file\n"
     ]
    }
   ],
   "source": [
    "data = f.read();\n",
    "print(data)"
   ]
  },
  {
   "cell_type": "code",
   "execution_count": 11,
   "id": "0adb2373",
   "metadata": {
    "scrolled": true
   },
   "outputs": [
    {
     "name": "stdout",
     "output_type": "stream",
     "text": [
      "Hello\n"
     ]
    }
   ],
   "source": [
    "data = f.read(5);\n",
    "print(data)"
   ]
  },
  {
   "cell_type": "code",
   "execution_count": 18,
   "id": "3ae93612",
   "metadata": {},
   "outputs": [
    {
     "name": "stdout",
     "output_type": "stream",
     "text": [
      "Hello JJ\n",
      "\n"
     ]
    }
   ],
   "source": [
    "data = f.readline();\n",
    "print(data)"
   ]
  },
  {
   "cell_type": "code",
   "execution_count": 21,
   "id": "12fe2962",
   "metadata": {},
   "outputs": [
    {
     "name": "stdout",
     "output_type": "stream",
     "text": [
      "['Hello JJ\\n', 'This is a sample text file']\n"
     ]
    }
   ],
   "source": [
    "data = f.readlines();\n",
    "print(data)"
   ]
  },
  {
   "cell_type": "code",
   "execution_count": 24,
   "id": "35196a65",
   "metadata": {},
   "outputs": [
    {
     "name": "stdout",
     "output_type": "stream",
     "text": [
      "Hello JJ\n",
      "\n",
      "This is a sample text file\n"
     ]
    }
   ],
   "source": [
    "for ln in f:\n",
    "    print(ln);"
   ]
  },
  {
   "cell_type": "markdown",
   "id": "814a8d5a",
   "metadata": {},
   "source": [
    "### Write to a file\n",
    "- `write(<string>)` : write the string to the file and return a number of written characters\n",
    "- `writelines()` : write a list of lines to the file"
   ]
  },
  {
   "cell_type": "code",
   "execution_count": 44,
   "id": "26d403c6",
   "metadata": {},
   "outputs": [],
   "source": [
    "f = open(\"sample.txt\",'r+');\n",
    "f.write(\"Hello\\n\");\n",
    "f.close();"
   ]
  },
  {
   "cell_type": "code",
   "execution_count": 45,
   "id": "600daf60",
   "metadata": {},
   "outputs": [],
   "source": [
    "f = open('sample.txt','a');"
   ]
  },
  {
   "cell_type": "code",
   "execution_count": 46,
   "id": "c43b427a",
   "metadata": {},
   "outputs": [
    {
     "data": {
      "text/plain": [
       "3"
      ]
     },
     "execution_count": 46,
     "metadata": {},
     "output_type": "execute_result"
    }
   ],
   "source": [
    "f.write(\"Bye\")"
   ]
  },
  {
   "cell_type": "code",
   "execution_count": 47,
   "id": "acb79c0c",
   "metadata": {},
   "outputs": [],
   "source": [
    "f.close();"
   ]
  },
  {
   "cell_type": "code",
   "execution_count": 66,
   "id": "65f215a4",
   "metadata": {},
   "outputs": [],
   "source": [
    "f = open(\"sample.txt\",'r+');"
   ]
  },
  {
   "cell_type": "code",
   "execution_count": 49,
   "id": "18cc0f89",
   "metadata": {},
   "outputs": [
    {
     "name": "stdout",
     "output_type": "stream",
     "text": [
      "Hello\n",
      "eBye\n"
     ]
    }
   ],
   "source": [
    "print(f.read());"
   ]
  },
  {
   "cell_type": "code",
   "execution_count": 50,
   "id": "e06eec52",
   "metadata": {},
   "outputs": [],
   "source": [
    "f.seek(0);"
   ]
  },
  {
   "cell_type": "code",
   "execution_count": 56,
   "id": "faa12c4b",
   "metadata": {},
   "outputs": [],
   "source": [
    "l = [\"This is first line\",\"This is second line\"];"
   ]
  },
  {
   "cell_type": "code",
   "execution_count": 67,
   "id": "ea968dd1",
   "metadata": {},
   "outputs": [],
   "source": [
    "f.writelines(l);"
   ]
  },
  {
   "cell_type": "code",
   "execution_count": 68,
   "id": "f6b6c3d8",
   "metadata": {},
   "outputs": [],
   "source": [
    "f.close();"
   ]
  },
  {
   "cell_type": "markdown",
   "id": "5397e28c",
   "metadata": {},
   "source": [
    "### Open files using `with` keyword"
   ]
  },
  {
   "cell_type": "code",
   "execution_count": null,
   "id": "d70bfa6e",
   "metadata": {},
   "outputs": [],
   "source": [
    "with open(\"sample.txt\",\"r+\") as f:\n",
    "    f.write"
   ]
  }
 ],
 "metadata": {
  "kernelspec": {
   "display_name": "Python 3 (ipykernel)",
   "language": "python",
   "name": "python3"
  },
  "language_info": {
   "codemirror_mode": {
    "name": "ipython",
    "version": 3
   },
   "file_extension": ".py",
   "mimetype": "text/x-python",
   "name": "python",
   "nbconvert_exporter": "python",
   "pygments_lexer": "ipython3",
   "version": "3.10.7"
  }
 },
 "nbformat": 4,
 "nbformat_minor": 5
}
